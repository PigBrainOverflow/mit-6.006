{
 "cells": [
  {
   "cell_type": "markdown",
   "metadata": {},
   "source": [
    "### problem 7-1\n",
    "$dp(i)$ means the maximum delegate count Rep. Torr will get from state $1$ to $i$. We have $dp(i) = \\max\\{dp(i - 2) + z_{i - 1} + d_{i}, dp(i - 1) + z_{i}\\}$, which means campaign in state $i$ or not."
   ]
  },
  {
   "cell_type": "markdown",
   "metadata": {},
   "source": [
    "### problem 7-2\n",
    "1. Sort tigers in ascending order by age and cages by distance.\n",
    "2. $dp(i, j)$ means the minimum total discomfort of the first $i$ tigers in first $j$ cages. We have $dp(i, j) = \\max\\{dp(i, j - 1), dp(i - 1, j - 1) + \\max(0, s_i - c_j)\\}$, which means assign tiger $i$ to cage $j$ or not.\n",
    "\n",
    "The total time complexity is $O(n^2logn) + O(n^3) = O(n^3)$. Additionally, the space complexity is $O(n)$ since $dp(\\cdot, j)$ only depends on $dp(\\cdot, j - 1)$."
   ]
  },
  {
   "cell_type": "markdown",
   "metadata": {},
   "source": [
    "### problem 7-3\n",
    "1. Toposort.\n",
    "2. For each vertex $i$, maintain its $odd\\_count$ and $even\\_count$: For each outgoing vertex $j$, if $edge(i, j)$ is even, $odd\\_count(j) += odd\\_count(i)$ and $even\\_count(j) += even\\_count(i)$; otherwise, $odd\\_count(j) += even\\_count(i)$ and $even\\_count(j) += odd\\_count(i)$.\n",
    "\n",
    "The total time complexity is $O(|V| + |E|)$."
   ]
  },
  {
   "cell_type": "markdown",
   "metadata": {},
   "source": [
    "### problem 7-4\n",
    "1. $circular\\_sum(i, j)$ means the total tastiness from $i$ to $j$, which can be accumulated by $sum(i) = \\sum_{k = 0}^i t_k$ array.\n",
    "\\begin{align}\n",
    "circular\\_sum(i, j) &= sum(j) - sum(i), i \\le j \\\\\n",
    "    &= sum(2n) - sum(i) + sum(j), otherwise\n",
    "\\end{align}\n",
    "2. $dp(i, j)$ means the maximum total tastiness Liza can eat if given slices from $i$ to $j$. We have $dp(i, j) = \\max_{i \\le k < j}\\{circular\\_sum(k, \\min(j, k + n)) + circular\\_sum(\\min(j, k + n), j) - dp(i, k)\\}$, which means Liza choosing angle $\\frac{k\\pi}{n}$.\n",
    "\n",
    "Another solution is that we apply case analysis to the first choice by Liza, since it's the only step limited by the maximum-$n$-slices rule and the remaining slices are contiguous and no more than a half. Suppose the first angle is $\\frac{p\\pi}{n}$, $dp(i)$ means the maximum total tastiness Liza can eat if given slices from $p$ to $i$. We have $dp(i) = circular\\_sum(p, i) - \\min_{p \\le k < i}\\{dp(k)\\}$, which means Liza choosing angle $\\frac{k\\pi}{n}$. $\\min_{p \\le k < i}\\{dp(k)\\}$ can be maintained in $O(1)$ as a variable $premin$. The total time complexity is $2n \\cdot O(n) = O(n^2)$."
   ]
  },
  {
   "cell_type": "markdown",
   "metadata": {},
   "source": [
    "### problem 7-5\n",
    "1. Sort price.\n",
    "2. $dp(i, j)$ means the longest shorting value on day $i$ ending with price $j$. We have $dp(i, j) = \\max\\{dp(i - 1, k), dp(i, j + 1)\\} + 1$, where $p_k$ is the maximum price less than $p_j$ on previous day. When finding $p_k$, we can find the price by double-pointer (if prices sorted ahead).\n",
    "\n",
    "The total time complexity is $T_{sort} + T_{dp} = O(nklogk) + O(nk) = O(nklogk)$ for each company.\n",
    "\n",
    "see code"
   ]
  },
  {
   "cell_type": "code",
   "execution_count": 8,
   "metadata": {},
   "outputs": [
    {
     "name": "stderr",
     "output_type": "stream",
     "text": [
      "test_01 (__main__.TestCases.test_01) ... ok\n",
      "test_02 (__main__.TestCases.test_02) ... ok\n",
      "test_03 (__main__.TestCases.test_03) ... FAIL\n",
      "test_04 (__main__.TestCases.test_04) ... FAIL\n",
      "test_05 (__main__.TestCases.test_05) ... FAIL\n",
      "\n",
      "======================================================================\n",
      "FAIL: test_03 (__main__.TestCases.test_03)\n",
      "----------------------------------------------------------------------\n",
      "Traceback (most recent call last):\n",
      "  File \"c:\\Users\\xiaokong\\Desktop\\courses\\mit_6.006\\solutions\\ps7\\tests.py\", line 117, in test_03\n",
      "    def test_03(self): self.assertTrue(check(tests[ 2]))\n",
      "                       ^^^^^^^^^^^^^^^^^^^^^^^^^^^^^^^^^\n",
      "AssertionError: False is not true\n",
      "\n",
      "======================================================================\n",
      "FAIL: test_04 (__main__.TestCases.test_04)\n",
      "----------------------------------------------------------------------\n",
      "Traceback (most recent call last):\n",
      "  File \"c:\\Users\\xiaokong\\Desktop\\courses\\mit_6.006\\solutions\\ps7\\tests.py\", line 118, in test_04\n",
      "    def test_04(self): self.assertTrue(check(tests[ 3]))\n",
      "                       ^^^^^^^^^^^^^^^^^^^^^^^^^^^^^^^^^\n",
      "AssertionError: False is not true\n",
      "\n",
      "======================================================================\n",
      "FAIL: test_05 (__main__.TestCases.test_05)\n",
      "----------------------------------------------------------------------\n",
      "Traceback (most recent call last):\n",
      "  File \"c:\\Users\\xiaokong\\Desktop\\courses\\mit_6.006\\solutions\\ps7\\tests.py\", line 119, in test_05\n",
      "    def test_05(self): self.assertTrue(check(tests[ 4]))\n",
      "                       ^^^^^^^^^^^^^^^^^^^^^^^^^^^^^^^^^\n",
      "AssertionError: False is not true\n",
      "\n",
      "----------------------------------------------------------------------\n",
      "Ran 5 tests in 0.004s\n",
      "\n",
      "FAILED (failures=3)\n"
     ]
    }
   ],
   "source": [
    "!python tests.py"
   ]
  },
  {
   "cell_type": "markdown",
   "metadata": {},
   "source": [
    "I misunderstood the problem: The price sequences of days cannot be sorted since they are already sorted in chronological order. However, the $dp$ formula is still correct and we can build an augmented AVL-Tree to support $O(logn)$ query (or a sorted array with $premax$ and do binary search)."
   ]
  }
 ],
 "metadata": {
  "kernelspec": {
   "display_name": "office",
   "language": "python",
   "name": "python3"
  },
  "language_info": {
   "codemirror_mode": {
    "name": "ipython",
    "version": 3
   },
   "file_extension": ".py",
   "mimetype": "text/x-python",
   "name": "python",
   "nbconvert_exporter": "python",
   "pygments_lexer": "ipython3",
   "version": "3.11.7"
  }
 },
 "nbformat": 4,
 "nbformat_minor": 2
}
