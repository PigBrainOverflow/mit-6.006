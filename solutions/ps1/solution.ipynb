{
 "cells": [
  {
   "cell_type": "markdown",
   "metadata": {},
   "source": [
    "### problem 1-1\n",
    "1. $(f_5, f_3, f_4, f_1, f_2)$\n",
    "2. $(f_1, f_2, f_5, f_4, f_3)$\n",
    "3. $(\\{f_2, f_5\\}, f_4, f_1, f_3)$ note: $n! \\approx \\sqrt{2\\pi n} \\left(\\frac{n}{e}\\right)^n$\n",
    "4. $(f_5, f_2, f_1, f_3, f_4)$"
   ]
  },
  {
   "cell_type": "markdown",
   "metadata": {},
   "source": [
    "### problem 1-2\n",
    "1. \n",
    "```\n",
    "def reverse(D, i, k):\n",
    "    j = i + k - 1\n",
    "    while(i < j):\n",
    "        tempj = D.delete_at(j)\n",
    "        tempi = D.delete_at(i)\n",
    "        D.insert_at(i, tempj)\n",
    "        D.insert_at(j, tempi)\n",
    "        i += 1\n",
    "        j -= 1\n",
    "```\n",
    "2. \n",
    "```\n",
    "def move(D, i, k, j):\n",
    "    if i < j:\n",
    "        for index in range(i + k - 1, i - 1, -1):\n",
    "            D.insert_at(j - 1, D.delete_at(index))\n",
    "    else:\n",
    "        for index in range(i + k - 1, i - 1, -1):\n",
    "            D.insert_at(j, D.delete_at(index))\n",
    "```"
   ]
  },
  {
   "cell_type": "markdown",
   "metadata": {},
   "source": [
    "### problem 1-3\n",
    "A linked list with 2 cursors.\n",
    "1. build(X): worst-case\n",
    "2. place mark(i, m): worst-case\n",
    "3. shift mark(m, d): worst-case\n",
    "4. move_page(m): worst-case"
   ]
  },
  {
   "cell_type": "markdown",
   "metadata": {},
   "source": [
    "### problem 1-4\n",
    "see code"
   ]
  },
  {
   "cell_type": "code",
   "execution_count": 4,
   "metadata": {},
   "outputs": [
    {
     "name": "stderr",
     "output_type": "stream",
     "text": [
      "test_01 (__main__.TestCases.test_01) ... ok\n",
      "test_02 (__main__.TestCases.test_02) ... ok\n",
      "test_03 (__main__.TestCases.test_03) ... ok\n",
      "test_04 (__main__.TestCases.test_04) ... ok\n",
      "test_05 (__main__.TestCases.test_05) ... ok\n",
      "\n",
      "----------------------------------------------------------------------\n",
      "Ran 5 tests in 0.001s\n",
      "\n",
      "OK\n"
     ]
    }
   ],
   "source": [
    "!python tests.py"
   ]
  }
 ],
 "metadata": {
  "kernelspec": {
   "display_name": "office",
   "language": "python",
   "name": "python3"
  },
  "language_info": {
   "codemirror_mode": {
    "name": "ipython",
    "version": 3
   },
   "file_extension": ".py",
   "mimetype": "text/x-python",
   "name": "python",
   "nbconvert_exporter": "python",
   "pygments_lexer": "ipython3",
   "version": "3.11.7"
  }
 },
 "nbformat": 4,
 "nbformat_minor": 2
}
