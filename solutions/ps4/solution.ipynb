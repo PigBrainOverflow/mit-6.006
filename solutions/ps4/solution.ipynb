{
 "cells": [
  {
   "cell_type": "markdown",
   "metadata": {},
   "source": [
    "### problem 4-1\n",
    "1. 16: 2, 37: -2\n",
    "2. \n",
    "```\n",
    "       47           \n",
    "        |           \n",
    "   16-------64      \n",
    "    |        |      \n",
    "  3---37     --86   \n",
    "  |    |        |   \n",
    "2-- 28--     85---88\n",
    "```\n",
    "3. \n",
    "For 16, we rotate right and left. It's height-balanced.\n",
    "```\n",
    "       47           \n",
    "        |           \n",
    "   35-------84      \n",
    "    |        |      \n",
    " 16---37  64---86   \n",
    "  |        |    |   \n",
    "3--28   49--    --88\n",
    "```\n",
    "For 37, we rotate right. It's height-balanced.\n",
    "```\n",
    "       47             \n",
    "        |             \n",
    " 16-----------84      \n",
    "  |            |      \n",
    "3---35      64---86   \n",
    "     |       |    |   \n",
    "  28---37 49--    --88\n",
    "```"
   ]
  },
  {
   "cell_type": "markdown",
   "metadata": {},
   "source": [
    "### problem 4-2\n",
    "1. It's a min-heap.\n",
    "2. It's a max-heap.\n",
    "3. [0, 2, 2, 8, 9, 13]\n",
    "4. It's a min-heap."
   ]
  },
  {
   "cell_type": "markdown",
   "metadata": {},
   "source": [
    "### problem 4-3\n",
    "1. Heap: We build a min-heap on the score with max size of $k$, maintaining $k$ maximum scores when we traverse the array $A$. However, the total complexity can be $O(nlogk)$.  \n",
    "Quick Select: We can apply Quick Select to get the k-th largest score in $O(n)$, and traverse $A$ again to get all scores larger than the k-th score.\n",
    "2. We can recursively pick scores from the root. Only if the root of a subtree is larger than $x$, we look up its left and right children."
   ]
  },
  {
   "cell_type": "markdown",
   "metadata": {},
   "source": [
    "### problem 4-4\n",
    "We build  \n",
    "1. an AVL-Tree of remaining capacity and its farm name,\n",
    "2. a hashtable contains the farm name, its connected building names (as a hashtable) and a pointer to itself in the AVL-Tree.\n",
    "3. a hashtable contains the building name, its demand and its connected farm name.\n",
    "\n",
    "The drawback of this design is its build cost is $O(nlogn)$. By the way, it's no better than a database management system.  \n",
    "The philosophy behind the design is that Balanced-Trees can provide range query (e.g. remaining capacity) and hashtables can do concise queries faster (in $O(1)$ expected).  \n",
    "NOTE: Build heap costs only $O(n)$!!! I forgot that."
   ]
  },
  {
   "cell_type": "markdown",
   "metadata": {},
   "source": [
    "### problem 4-5\n",
    "Tree: We build a complete binary tree whose leaves are matrices $M_i$. An internal leaf should maintain its range product by $M_{self} = M_{left} \\cdot M_{right}$. Then the root is $M_{root} = \\prod_{k=0}^{n-1} M_k$.  \n",
    "In order to save space, we can use a static array to implement this tree like what we do for heap (since it's complete binary)."
   ]
  },
  {
   "cell_type": "markdown",
   "metadata": {},
   "source": [
    "### problem 4-6\n",
    "1. We can construct a coordinate $(x, y)$, where $x = \\max_{i=0, x_i \\le x'}^{n-1}(x_i), y = \\max_{j=0, y_j \\le y'}^{n-1}(y_j)$. Obviously, the new slice contains same toppings as the previous does.\n",
    "2. We can augment each node in our AVL-Tree: The Augmented properties are subtree's value sum, subtree's max prefix sum and its corresponding key.  \n",
    "Then we can update any node depending on their children:\n",
    "\\begin{align}\n",
    "sum_{self} =& sum_{left} + sum_{right} + value_{self}\\\\\n",
    "maxprefix_{self} =& \\max\\{\\\\\n",
    "    & maxprefix_{left},\\\\\n",
    "    & sum_{left} + value_{self},\\\\\n",
    "    & sum_{left} + value_{self} + maxprefix_{right}\\\\\n",
    "&\\}\n",
    "\\end{align}\n",
    "3. All coordinates are distinct! We just need to build the augmented AVL-Tree with $x$ as the key, insert all toppings in $y$ ascending order and query the root.  \n",
    "We insert toppings in order so that we can ensure each topping inserted is above ($y$ axis) all other toppings in the tree.\n",
    "4. see code"
   ]
  },
  {
   "cell_type": "code",
   "execution_count": 9,
   "metadata": {},
   "outputs": [
    {
     "name": "stderr",
     "output_type": "stream",
     "text": [
      "test_01 (__main__.TestCases.test_01) ... ok\n",
      "test_02 (__main__.TestCases.test_02) ... ok\n",
      "test_03 (__main__.TestCases.test_03) ... ok\n",
      "test_04 (__main__.TestCases.test_04) ... ok\n",
      "test_05 (__main__.TestCases.test_05) ... ok\n",
      "\n",
      "----------------------------------------------------------------------\n",
      "Ran 5 tests in 0.003s\n",
      "\n",
      "OK\n"
     ]
    }
   ],
   "source": [
    "!python tests.py"
   ]
  }
 ],
 "metadata": {
  "kernelspec": {
   "display_name": "office",
   "language": "python",
   "name": "python3"
  },
  "language_info": {
   "codemirror_mode": {
    "name": "ipython",
    "version": 3
   },
   "file_extension": ".py",
   "mimetype": "text/x-python",
   "name": "python",
   "nbconvert_exporter": "python",
   "pygments_lexer": "ipython3",
   "version": "3.11.7"
  }
 },
 "nbformat": 4,
 "nbformat_minor": 2
}
