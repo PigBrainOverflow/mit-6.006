{
 "cells": [
  {
   "cell_type": "markdown",
   "metadata": {},
   "source": [
    "### problem 3-1\n",
    "1. \n",
    "```\n",
    "[0] -> 36 -> 92 -> null\n",
    "[1] -> null\n",
    "[2] -> null\n",
    "[3] -> null\n",
    "[4] -> 56 -> null\n",
    "[5] -> 47 -> 61 -> 33 -> null\n",
    "[6] -> 52 -> null\n",
    "```\n",
    "2. $c = 13$"
   ]
  },
  {
   "cell_type": "code",
   "execution_count": 10,
   "metadata": {},
   "outputs": [
    {
     "name": "stdout",
     "output_type": "stream",
     "text": [
      "[6, 3, 0, 4, 5, 2, 1]\n"
     ]
    }
   ],
   "source": [
    "A = [47, 61, 36, 52, 56, 33, 92]\n",
    "h = [(10 * x + 4) % 13 % 7 for x in A]\n",
    "print(h)"
   ]
  },
  {
   "cell_type": "markdown",
   "metadata": {},
   "source": [
    "### problem 3-2\n",
    "1. $k_1 \\equiv k_2\\ (mod\\ n)$\n",
    "2. $k_1 = 0, k_2 = 1$, etc\n",
    "3. \n",
    "No such choice can guarantee. Suppose there exist $k_1, k_2$ satisfying $k_1 \\ne k_2$ and $\\forall a, b, h_{ab}(k_1) = h_{ab}(k_2)$. We have $ak_1+b \\equiv ak_2 + b + in\\ (mod\\ p)$. Then $a(k_1 - k_2) \\equiv in\\ (mod\\ p)$ and $a \\equiv in(k_1 - k_2)^{-1}\\ (mod\\ p)$, where $i \\in \\{0, 1, ..., \\frac{p-1}{m}\\}$. Therefore, $a$ has less than $p$ solutions and cannot satisfy for $\\forall a \\in \\{0, 1, ..., p-1\\}$."
   ]
  },
  {
   "cell_type": "markdown",
   "metadata": {},
   "source": [
    "### problem 3-3\n",
    "1. Radix Sort: $c = 16\\lceil log_4(\\sqrt{n})\\rceil$ and $T(n) = O(nlogn)$ (Otherwise, Merge Sort needs $O(nlogn)$ comparisons, each of which actually costs $O(logn)$ and the total cost is $O(nlog^2n)$.)\n",
    "2. Counting Sort: $T(n) = n$\n",
    "3. Radix Sort: $T(n) = O(nlogn)$\n",
    "4. Merge Sort: $T(n) = O(nlogn)$"
   ]
  },
  {
   "cell_type": "markdown",
   "metadata": {},
   "source": [
    "### problem 3-4\n",
    "1. Sliding Window: We maintain a hashtable of size $\\frac{n}{10}$.\n",
    "2. Radix Sort & Double-Cursor:  \n",
    "First, we apply Radix Sort to $B$ on the number of reams with base $n$, discarding all $b_i \\ge n^2$, so the time complexity is only $O(n)$ (since the base is $n$ and the number of rounds is $2$).  \n",
    "Next, we apply Double-Cursor: $i$ from the beginning of the array and $j$ from end. If $b_i + b_j < r$, we move $i$ forward, otherwise we move $j$ backward. If $b_i + b_j = r$, we check their difference of location."
   ]
  },
  {
   "cell_type": "markdown",
   "metadata": {},
   "source": [
    "### problem 3-5\n",
    "1. Build Stage: We count characters for each substring of length $k$ as a 26-tuple and apply Radix Sort.  \n",
    "Query Stage: Do binary search twice (one for lower bound and the other for upper bound). Acutally it's $O(k + logn)$. Another method is using a hashtable to store the character count tuples.\n",
    "2. We build the tuples for $T$, and query $n$ times.\n",
    "3. see code"
   ]
  },
  {
   "cell_type": "code",
   "execution_count": 4,
   "metadata": {},
   "outputs": [
    {
     "name": "stderr",
     "output_type": "stream",
     "text": [
      "test_01 (__main__.TestCases.test_01) ... ok\n",
      "test_02 (__main__.TestCases.test_02) ... ok\n",
      "test_03 (__main__.TestCases.test_03) ... ok\n",
      "test_04 (__main__.TestCases.test_04) ... ok\n",
      "test_05 (__main__.TestCases.test_05) ... ok\n",
      "\n",
      "----------------------------------------------------------------------\n",
      "Ran 5 tests in 0.001s\n",
      "\n",
      "OK\n"
     ]
    }
   ],
   "source": [
    "!python tests.py"
   ]
  }
 ],
 "metadata": {
  "kernelspec": {
   "display_name": "office",
   "language": "python",
   "name": "python3"
  },
  "language_info": {
   "codemirror_mode": {
    "name": "ipython",
    "version": 3
   },
   "file_extension": ".py",
   "mimetype": "text/x-python",
   "name": "python",
   "nbconvert_exporter": "python",
   "pygments_lexer": "ipython3",
   "version": "3.11.7"
  }
 },
 "nbformat": 4,
 "nbformat_minor": 2
}
