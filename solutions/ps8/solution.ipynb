{
 "cells": [
  {
   "cell_type": "markdown",
   "metadata": {},
   "source": [
    "### problem 8-1\n",
    "This is pseudopolynomial.\n",
    "\n",
    "$dp(i, j)$ means the maximum profit when given $i$ barrels and only considering first $j$ orders. We have\n",
    "\\begin{align}\n",
    "dp(i, j) & = dp(i, j - 1), i < a_{j} \\\\\n",
    "    & = \\max\\{dp(i - a_{j}, j - 1) + p_{j}, dp(i, j - 1)\\}, otherwise\n",
    "\\end{align}\n",
    "\n",
    "Initially, we have $dp(i, 0) = si$ (penalty for all unsold barrels)."
   ]
  },
  {
   "cell_type": "markdown",
   "metadata": {},
   "source": [
    "### problem 8-2\n",
    "This is polynomial.\n",
    "\n",
    "$maxsum(i, j)$ means the maximum total points with pins ALL knocked down from $i$ to $j$. We have\n",
    "\\begin{align}\n",
    "maxsum(i, j) = \\max\\{ \\\\\n",
    "    & \\max_{k = i}^{j - 1}\\left(maxsum(i, k) + maxsum(k + 1, j)\\right), subproblem \\\\\n",
    "    & maxsum(i + 1, j - 1) + v_{i}\\cdot v_{j}, knock\\ split \\\\\n",
    "\\}\n",
    "\\end{align}\n",
    "\n",
    "Initially, $maxsum(i, i) = v_{i}$. It's a DAG because the length of range is increasing over updating.\n",
    "\n",
    "$dp(i)$ means the maximum points when considering first $i$ pins. We have\n",
    "\\begin{align}\n",
    "dp(i) = \\max\\{ \\\\\n",
    "    & dp(i - 1), knock\\ none \\\\\n",
    "    & \\max_{k = 0}^{i - 1}\\left(dp(k) + maxsum(k + 1, i)\\right), knock\\ some \\\\\n",
    "\\}\n",
    "\\end{align}\n",
    "\n",
    "The time complexity of $maxsum$ is $O(n^3)$ and that of $dp$ is $O(n^2)$. The total complexity is $O(n^3)$."
   ]
  },
  {
   "cell_type": "markdown",
   "metadata": {},
   "source": [
    "### problem 8-3\n",
    "This is pseudopolynomial.\n",
    "\n",
    "$dp(i, s_1, s_2, s_3)$ means whether the sum of $A_1, A_2, A_3$ can be $s_1, s_2, s_3$ respectively considering first $i$ integers. We have\n",
    "\\begin{align}\n",
    "dp(i, s_1, s_2, s_3) = OR\\{ \\\\\n",
    "    & dp(i - 1, s_1 - a_i, s_2, s_3), \\\\\n",
    "    & dp(i - 1, s_1, s_2 - a_i, s_3), \\\\\n",
    "    & dp(i - 1, s_1, s_2, s_3 - a_i) \\\\\n",
    "\\}\n",
    "\\end{align}\n",
    "\n",
    "Initially, $dp(0, 0, 0, 0) = True$, otherwise, all $False$.\n",
    "\n",
    "After that, we traverse all $dp(n, \\cdot, \\cdot, \\cdot) = True$, calculate $s_4$ through $s_4 = \\sum_{i} a_i - s_1 - s_2 - s_3$ and find the minimax.\n",
    "\n",
    "The total time complexity is $O(m^3n)$ and space complexity is $O(m^3)$."
   ]
  },
  {
   "cell_type": "markdown",
   "metadata": {},
   "source": [
    "### problem 8-4\n",
    "This is polynomial.\n",
    "\n",
    "1. We build a Trie $T$ to count the appearing times of each word. The building time is $O(m^2n)$ and the query time is $O(w) \\le O(m)$, where $w$ is the length of the word.\n",
    "2. $dp(i)$ means the maximum summation of $f(w)$ in $l[0 : i]$. We have\n",
    "\\begin{align}\n",
    "dp(i) = \\max_{j = 0}^{i - 1}\\left(dp(j) + query(T, l[j : i])\\right)\n",
    "\\end{align}\n",
    "The total complexity is $T_{build} + T_{dp} = O(m^2n) + O(m^3n) = O(m^3n)$.\n",
    "\n",
    "It can be better, since we can build a new Trie $T'$ with all words reversed, namely $\\forall i, j, query(T, l[i : j]) = query(T', l[i : j : -1])$, in $O(m^2n)$ time. Therefore, we have\n",
    "\\begin{align}\n",
    "dp(i) = \\max_{j = 0}^{i - 1}\\left(dp(j) + query(T', l[j : i : -1])\\right)\n",
    "\\end{align}\n",
    "For each $dp(i)$, we just query $m$ times of strings with same suffix. Amortized time is $O(1)$ for each query.\n",
    "\n",
    "The total time complexity is $O(m^2n)$."
   ]
  }
 ],
 "metadata": {
  "language_info": {
   "name": "python"
  }
 },
 "nbformat": 4,
 "nbformat_minor": 2
}
