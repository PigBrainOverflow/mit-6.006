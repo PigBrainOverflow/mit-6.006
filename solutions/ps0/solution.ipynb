{
 "cells": [
  {
   "cell_type": "markdown",
   "metadata": {},
   "source": [
    "### problem 0-1\n",
    "1. $A \\cap B = \\{6, 12\\}$\n",
    "2. $| A \\cup B | = 7$\n",
    "3. $| A - B | = 3$"
   ]
  },
  {
   "cell_type": "markdown",
   "metadata": {},
   "source": [
    "### problem 0-2\n",
    "1. $E[X] = 0.5 + 0.5 + 0.5 = 1.5$\n",
    "2. $E[Y] = 12.25$\n",
    "3. $E[X + Y] = E[X] + E[Y] = 1.5 + 12.25 = 13.75$"
   ]
  },
  {
   "cell_type": "markdown",
   "metadata": {},
   "source": [
    "### problem 0-3\n",
    "1. True\n",
    "2. False\n",
    "3. False"
   ]
  },
  {
   "cell_type": "markdown",
   "metadata": {},
   "source": [
    "### problem 0-4\n",
    "Base: $\\sum_{i=1}^{1} i^3 = 1$  \n",
    "Induction:\n",
    "\\begin{align}\n",
    "\\sum_{i=1}^{n} i^3 &= \\sum_{i=1}^{n-1} i^3 + n^3\\\\\n",
    "&= \\left(\\frac{(n-1)n}{2}\\right)^2 + n^3\\\\\n",
    "&= \\left(\\frac{n(n+1)}{2}\\right)^2\n",
    "\\end{align}"
   ]
  },
  {
   "cell_type": "markdown",
   "metadata": {},
   "source": [
    "### problem 0-5\n",
    "Base: When $|V| = 1, |E| = 0$, $G$ contains a single vertex and is acyclic.  \n",
    "Induction:  \n",
    "Suppose $|V| = n, n > 1$, we can always find a vertex which has only 1 edge connected to it:\n",
    "1. All vertices have at least 1 edge since $G$ is connected.\n",
    "2. If all vertices have at least 2 edges, $|E| \\ge 2|V|$.\n",
    "\n",
    "Then we remove that vertex to get a subgraph $G'(V', E')$, where $|V'| = n-1, |E'| = n-2$. $G'$ is connected and therefore also acyclic.  \n",
    "$G$ is acyclic since it's made up of $G'$ and a vertex-edge pair."
   ]
  },
  {
   "cell_type": "markdown",
   "metadata": {},
   "source": [
    "### problem 0-6\n",
    "see code"
   ]
  },
  {
   "cell_type": "code",
   "execution_count": 1,
   "metadata": {},
   "outputs": [
    {
     "name": "stderr",
     "output_type": "stream",
     "text": [
      "test_01 (__main__.TestCases.test_01) ... ok\n",
      "test_02 (__main__.TestCases.test_02) ... ok\n",
      "test_03 (__main__.TestCases.test_03) ... ok\n",
      "test_04 (__main__.TestCases.test_04) ... ok\n",
      "test_05 (__main__.TestCases.test_05) ... ok\n",
      "\n",
      "----------------------------------------------------------------------\n",
      "Ran 5 tests in 0.000s\n",
      "\n",
      "OK\n"
     ]
    }
   ],
   "source": [
    "!python tests.py"
   ]
  }
 ],
 "metadata": {
  "kernelspec": {
   "display_name": "office",
   "language": "python",
   "name": "python3"
  },
  "language_info": {
   "codemirror_mode": {
    "name": "ipython",
    "version": 3
   },
   "file_extension": ".py",
   "mimetype": "text/x-python",
   "name": "python",
   "nbconvert_exporter": "python",
   "pygments_lexer": "ipython3",
   "version": "3.11.7"
  }
 },
 "nbformat": 4,
 "nbformat_minor": 2
}
