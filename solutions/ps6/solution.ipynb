{
 "cells": [
  {
   "cell_type": "markdown",
   "metadata": {},
   "source": [
    "### problem 6-1\n",
    "1. \n",
    "Dijkstra:\n",
    "| delete | a | b | c | d | e | f |\n",
    "|--------|---|---|---|---|---|---|\n",
    "| a      | 0 | x | x | x | x | x |\n",
    "| b      | 0 | 2 | x | 6 | x | x |\n",
    "| c      | 0 | 2 | 3 | 6 | 5 | 4 |\n",
    "| f      | 0 | 2 | 3 | 6 | 5 | 4 |\n",
    "| e      | 0 | 2 | 3 | 6 | 5 | 4 |\n",
    "| d      | 0 | 2 | 3 | 6 | 5 | 4 |\n",
    "\n",
    "DAG Relaxation:  \n",
    "Topo-order: a -> d -> b -> e -> f -> c\n",
    "| extend | a | b | c | d | e | f |\n",
    "|--------|---|---|---|---|---|---|\n",
    "| a      | 0 | x | x | x | x | x |\n",
    "| d      | 0 | 2 | x | 6 | x | x |\n",
    "| b      | 0 | 2 | x | 6 | 6 | x |\n",
    "| e      | 0 | 2 | 3 | 6 | 5 | 4 |\n",
    "| f      | 0 | 2 | 3 | 6 | 5 | 4 |\n",
    "\n",
    "2. \n",
    "| a | b | c | d | e | f |\n",
    "|---|---|---|---|---|---|\n",
    "| 0 | 2 | 3 | 6 | 5 | 4 |"
   ]
  },
  {
   "cell_type": "markdown",
   "metadata": {},
   "source": [
    "### problem 6-2\n",
    "Bellman-Ford: We just need to iterate $k$ times."
   ]
  },
  {
   "cell_type": "markdown",
   "metadata": {},
   "source": [
    "### problem 6-3\n",
    "DAG Relaxation: We build a graph with $2$ subgraphs in which clearings are seen as vertices and slopes as directed edges. One subgraph is the original graph (dynamite unexploded), and the other is the changed graph. We connect them with an edge from $D$ (location of the detonator) to $D'$ (passing through this edge means you choose to explode). The total graph is a DAG because the elevation can only be decreased along the path. The time complexity is $O(|V| + |E|) = O(n)$.  \n",
    "NOTE: DAG Relaxation is also called Dynamic Programming on Topo-order."
   ]
  },
  {
   "cell_type": "markdown",
   "metadata": {},
   "source": [
    "### problem 6-4\n",
    "Bellman-Ford: We apply Bellman-Ford to the original graph to detect its negative loops and apply to its derived graph (with all weights negated) to detect its positive loops."
   ]
  },
  {
   "cell_type": "markdown",
   "metadata": {},
   "source": [
    "### problem 6-5\n",
    "Dijkstra: We build a directed graph which contains $g$ subgraphs, meaning the current state (gas remain and location). All edges are weighted by time cost (either driving time or gassing time). When you choose to gas up the car, you should pass through the corresponding edge (which only changes the state of gas).  \n",
    "The graph has at most $gn$ vertices and $5gn$ edges so the total complexity of Dijkstra is $O(|E| + |V|log|V|) = O(n^2 log(n^2)) = O(n^2 logn)$."
   ]
  },
  {
   "cell_type": "markdown",
   "metadata": {},
   "source": [
    "### problem 6-6\n",
    "Two lemmas to support Johnson's algorithm:\n",
    "1. For any vertex $v$, adding $h$ to its outgoing edges and subtracting $h$ from its ingoing edges will perserve the shortest paths.\n",
    "2. To make $G$ non-negative weighted, we can construct $h$ function which satisfies $h(v) \\le h(u) + \\omega(u,v)$ (this is triangle inequality actually). We choose the (shortest) distance function from a super source node $s$ as $h$.\n",
    "\n",
    "see code"
   ]
  },
  {
   "cell_type": "code",
   "execution_count": 6,
   "metadata": {},
   "outputs": [
    {
     "name": "stderr",
     "output_type": "stream",
     "text": [
      "test_01 (__main__.TestCases.test_01) ... ok\n",
      "test_02 (__main__.TestCases.test_02) ... ok\n",
      "test_03 (__main__.TestCases.test_03) ... ok\n",
      "test_04 (__main__.TestCases.test_04) ... ok\n",
      "test_05 (__main__.TestCases.test_05) ... ok\n",
      "\n",
      "----------------------------------------------------------------------\n",
      "Ran 5 tests in 0.002s\n",
      "\n",
      "OK\n"
     ]
    }
   ],
   "source": [
    "!python tests.py"
   ]
  }
 ],
 "metadata": {
  "kernelspec": {
   "display_name": "office",
   "language": "python",
   "name": "python3"
  },
  "language_info": {
   "codemirror_mode": {
    "name": "ipython",
    "version": 3
   },
   "file_extension": ".py",
   "mimetype": "text/x-python",
   "name": "python",
   "nbconvert_exporter": "python",
   "pygments_lexer": "ipython3",
   "version": "3.11.7"
  }
 },
 "nbformat": 4,
 "nbformat_minor": 2
}
