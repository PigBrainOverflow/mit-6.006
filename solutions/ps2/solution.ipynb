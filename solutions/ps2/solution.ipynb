{
 "cells": [
  {
   "cell_type": "markdown",
   "metadata": {},
   "source": [
    "### problem 2-1\n",
    "1. $T(n) = \\Theta (n^2)$\n",
    "2. $T(n) = O (n^4) = \\Omega (n^{log_{\\sqrt{2}}3})$\n",
    "3. $T(n) = \\Theta (nlog^2n)$\n",
    "4. $T(n) = \\Theta (n^2)$"
   ]
  },
  {
   "cell_type": "markdown",
   "metadata": {},
   "source": [
    "### problem 2-2\n",
    "1. Insertion Sort: $\\Theta (n)$\n",
    "2. Merge Sort: $\\Theta (nlog^2n)$\n",
    "3. Insertion Sort: $\\Theta (n)$ (will make no more than $loglogn + n$ comparisons and $loglogn$ swaps)"
   ]
  },
  {
   "cell_type": "markdown",
   "metadata": {},
   "source": [
    "### problem 2-3\n",
    "A variant of Binary Search:  \n",
    "First we jump to the center to know which end of island he is closer to. Then we move $2^i$ steps each time until we pass him, and we have $2^{x-1} < k < 2^x$ after $x$ times where $x = \\lceil logk \\rceil$. In the range of $[2^{x-1}, 2^x]$, we apply classic binary search. Total time complexity $T(k) = 2 \\lceil logk \\rceil = O(logk)$"
   ]
  },
  {
   "cell_type": "markdown",
   "metadata": {},
   "source": [
    "### problem 2-4\n",
    "We use a static sorted array to keep the pairs of viewer and its messages and a linked list to keep the history of messages.  \n",
    "The array has pairs of viewer and its messages, which is a linked list of message pointers to the total history.\n"
   ]
  },
  {
   "cell_type": "markdown",
   "metadata": {},
   "source": [
    "### problem 2-5\n",
    "see code"
   ]
  },
  {
   "cell_type": "code",
   "execution_count": 6,
   "metadata": {},
   "outputs": [
    {
     "name": "stderr",
     "output_type": "stream",
     "text": [
      "test_01 (__main__.TestCases.test_01) ... ok\n",
      "test_02 (__main__.TestCases.test_02) ... ok\n",
      "test_03 (__main__.TestCases.test_03) ... ok\n",
      "test_04 (__main__.TestCases.test_04) ... ok\n",
      "test_05 (__main__.TestCases.test_05) ... ok\n",
      "\n",
      "----------------------------------------------------------------------\n",
      "Ran 5 tests in 0.002s\n",
      "\n",
      "OK\n"
     ]
    }
   ],
   "source": [
    "!python tests.py"
   ]
  }
 ],
 "metadata": {
  "kernelspec": {
   "display_name": "office",
   "language": "python",
   "name": "python3"
  },
  "language_info": {
   "codemirror_mode": {
    "name": "ipython",
    "version": 3
   },
   "file_extension": ".py",
   "mimetype": "text/x-python",
   "name": "python",
   "nbconvert_exporter": "python",
   "pygments_lexer": "ipython3",
   "version": "3.11.7"
  }
 },
 "nbformat": 4,
 "nbformat_minor": 2
}
